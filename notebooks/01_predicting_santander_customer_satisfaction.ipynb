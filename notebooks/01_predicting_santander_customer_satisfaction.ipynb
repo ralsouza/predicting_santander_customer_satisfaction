{
  "nbformat": 4,
  "nbformat_minor": 0,
  "metadata": {
    "colab": {
      "name": "01_predicting_santander_customer_satisfaction.ipynb",
      "provenance": [],
      "collapsed_sections": [],
      "mount_file_id": "1ABlNPBBcTvwzBBvq1Zscx6dXuJpUriRF",
      "authorship_tag": "ABX9TyOpxfhCHoQjnd5RQJczj97z",
      "include_colab_link": true
    },
    "kernelspec": {
      "name": "python3",
      "display_name": "Python 3"
    }
  },
  "cells": [
    {
      "cell_type": "markdown",
      "metadata": {
        "id": "view-in-github",
        "colab_type": "text"
      },
      "source": [
        "<a href=\"https://colab.research.google.com/github/ralsouza/predicting_santander_customer_satisfaction/blob/main/notebooks/01_predicting_santander_customer_satisfaction.ipynb\" target=\"_parent\"><img src=\"https://colab.research.google.com/assets/colab-badge.svg\" alt=\"Open In Colab\"/></a>"
      ]
    },
    {
      "cell_type": "markdown",
      "metadata": {
        "id": "-tsyB0Pg2IKv"
      },
      "source": [
        "# Predicting Santander Customer Satisfaction\n",
        "\n",
        "Customer satisfaction is a key measure of success. Unhappy customers don't stick around. What's more, unhappy customers rarely voice their dissatisfaction before leaving.\n",
        "\n",
        "Santander Bank is asking to help them identify dissatisfied customers early in their relationship. Doing so would allow Santander to take proactive steps to improve a customer's happiness before it's too late.\n",
        "\n",
        "In this project, we'll work with hundreds of anonymized features to predict if a customer is satisfied or dissatisfied with their banking experience.\n",
        "\n",
        "Source: [Kaggle: Santander Customer Satisfaction](https://www.kaggle.com/c/santander-customer-satisfaction)"
      ]
    },
    {
      "cell_type": "markdown",
      "metadata": {
        "id": "jWWhFKbb5vUh"
      },
      "source": [
        "## Business Problem: \n",
        "Identify dissatisfied customers before leave the Santander services with 70% of accuracy."
      ]
    },
    {
      "cell_type": "markdown",
      "metadata": {
        "id": "AYlfH19v5yXQ"
      },
      "source": [
        "# PySpark Setup\r\n",
        "[A Must-Read Guide on How to Work with PySpark on Google Colab for Data Scientists!](https://www.analyticsvidhya.com/blog/2020/11/a-must-read-guide-on-how-to-work-with-pyspark-on-google-colab-for-data-scientists/)"
      ]
    },
    {
      "cell_type": "code",
      "metadata": {
        "id": "kJJMWp6h09XH"
      },
      "source": [
        "!apt-get install openjdk-8-jdk-headless -qq > /dev/null"
      ],
      "execution_count": 1,
      "outputs": []
    },
    {
      "cell_type": "code",
      "metadata": {
        "id": "WYJgIe-o09iB"
      },
      "source": [
        "!wget -q https://www-us.apache.org/dist/spark/spark-3.0.1/spark-3.0.1-bin-hadoop2.7.tgz"
      ],
      "execution_count": 2,
      "outputs": []
    },
    {
      "cell_type": "code",
      "metadata": {
        "id": "rdywMYj909pS"
      },
      "source": [
        "!tar xf spark-3.0.1-bin-hadoop2.7.tgz"
      ],
      "execution_count": 3,
      "outputs": []
    },
    {
      "cell_type": "code",
      "metadata": {
        "id": "u_uNFpNp09vg"
      },
      "source": [
        "!pip install -q findspark"
      ],
      "execution_count": 4,
      "outputs": []
    },
    {
      "cell_type": "code",
      "metadata": {
        "id": "mIP66_p60913"
      },
      "source": [
        "import os\r\n",
        "os.environ[\"JAVA_HOME\"] = \"/usr/lib/jvm/java-8-openjdk-amd64\"\r\n",
        "os.environ[\"SPARK_HOME\"] = \"/content/spark-3.0.1-bin-hadoop2.7\""
      ],
      "execution_count": 5,
      "outputs": []
    },
    {
      "cell_type": "code",
      "metadata": {
        "id": "LExNsQDW0976"
      },
      "source": [
        "import findspark\r\n",
        "findspark.init()"
      ],
      "execution_count": 6,
      "outputs": []
    },
    {
      "cell_type": "code",
      "metadata": {
        "colab": {
          "base_uri": "https://localhost:8080/",
          "height": 58
        },
        "id": "rc3Nommu0-IY",
        "outputId": "eb731ed4-1d95-49d0-f27e-a464d351c236"
      },
      "source": [
        "# Optional: to know the location where Spark is installed, use findspark.find()\r\n",
        "findspark.find()"
      ],
      "execution_count": 7,
      "outputs": [
        {
          "output_type": "execute_result",
          "data": {
            "application/vnd.google.colaboratory.intrinsic+json": {
              "type": "string"
            },
            "text/plain": [
              "'/content/spark-3.0.1-bin-hadoop2.7'"
            ]
          },
          "metadata": {
            "tags": []
          },
          "execution_count": 7
        }
      ]
    },
    {
      "cell_type": "code",
      "metadata": {
        "id": "prfo3Ixi0-Nw"
      },
      "source": [
        "from pyspark.sql import SparkSession\r\n",
        "\r\n",
        "spark = SparkSession.builder\\\r\n",
        "        .master(\"local\")\\\r\n",
        "        .appName(\"santander_satisfaction\")\\\r\n",
        "        .config('spark.ui.port', '4050')\\\r\n",
        "        .getOrCreate()"
      ],
      "execution_count": 8,
      "outputs": []
    },
    {
      "cell_type": "code",
      "metadata": {
        "colab": {
          "base_uri": "https://localhost:8080/",
          "height": 232
        },
        "id": "HFro_ZMc1tuF",
        "outputId": "45fa25e4-dd40-41f7-d6f7-771756fbdaa6"
      },
      "source": [
        "spark"
      ],
      "execution_count": 9,
      "outputs": [
        {
          "output_type": "execute_result",
          "data": {
            "text/html": [
              "\n",
              "            <div>\n",
              "                <p><b>SparkSession - in-memory</b></p>\n",
              "                \n",
              "        <div>\n",
              "            <p><b>SparkContext</b></p>\n",
              "\n",
              "            <p><a href=\"http://e02f7155b863:4050\">Spark UI</a></p>\n",
              "\n",
              "            <dl>\n",
              "              <dt>Version</dt>\n",
              "                <dd><code>v3.0.1</code></dd>\n",
              "              <dt>Master</dt>\n",
              "                <dd><code>local</code></dd>\n",
              "              <dt>AppName</dt>\n",
              "                <dd><code>santander_satisfaction</code></dd>\n",
              "            </dl>\n",
              "        </div>\n",
              "        \n",
              "            </div>\n",
              "        "
            ],
            "text/plain": [
              "<pyspark.sql.session.SparkSession at 0x7fe960e1fc50>"
            ]
          },
          "metadata": {
            "tags": []
          },
          "execution_count": 9
        }
      ]
    },
    {
      "cell_type": "markdown",
      "metadata": {
        "id": "I_sfd3LY6Q8Q"
      },
      "source": [
        "# Import libraries"
      ]
    },
    {
      "cell_type": "code",
      "metadata": {
        "id": "nW4GIqyo6UFV"
      },
      "source": [
        "from pyspark.sql import Row\n",
        "from pyspark.sql.functions import col, lit, regexp_replace, array, expr, when, udf, isnan, count\n",
        "\n",
        "# Check datatypes: https://spark.apache.org/docs/latest/sql-ref-datatypes.html\n",
        "from pyspark.sql.types import BooleanType, FloatType\n",
        "\n",
        "import warnings # current version of seaborn generates a bunch of warnings that we'll ignore\n",
        "warnings.filterwarnings(\"ignore\")\n",
        "import seaborn as sns\n",
        "import numpy as np\n",
        "\n",
        "import matplotlib.pyplot as plt\n",
        "sns.set(style=\"white\", color_codes=True)"
      ],
      "execution_count": 10,
      "outputs": []
    },
    {
      "cell_type": "markdown",
      "metadata": {
        "id": "mT5vlvpV6Gnq"
      },
      "source": [
        "# Load data\n",
        "You are provided with an anonymized dataset containing a large number of numeric variables. The `TARGET` column is the variable to predict. It equals `one` for unsatisfied customers and `0` for satisfied customers.\n",
        "\n",
        "The task is to predict the probability that each customer in the test set is an unsatisfied customer.\n",
        "\n",
        "**File descriptions:**\n",
        "*   train.csv - the training set including the target\n",
        "*   test.csv - the test set without the target\n",
        "\n",
        "\n"
      ]
    },
    {
      "cell_type": "markdown",
      "metadata": {
        "id": "HhgIHV2fL06S"
      },
      "source": [
        "## Train data"
      ]
    },
    {
      "cell_type": "code",
      "metadata": {
        "id": "1O66RvpP2gDt"
      },
      "source": [
        "train = spark.read.csv('/content/drive/My Drive/Colab Notebooks/08-apache-spark/projects/data/train.csv', header=True, inferSchema=True)\r\n",
        "train.cache()"
      ],
      "execution_count": null,
      "outputs": []
    },
    {
      "cell_type": "code",
      "metadata": {
        "id": "oCNjQqMD2p2N"
      },
      "source": [
        "train.printSchema()"
      ],
      "execution_count": null,
      "outputs": []
    },
    {
      "cell_type": "code",
      "metadata": {
        "id": "-QUPodqX3crQ"
      },
      "source": [
        "train.show(5)"
      ],
      "execution_count": null,
      "outputs": []
    },
    {
      "cell_type": "markdown",
      "metadata": {
        "id": "jMQrGQU0wjMr"
      },
      "source": [
        "# Exploratory data analysis"
      ]
    },
    {
      "cell_type": "code",
      "metadata": {
        "id": "jzTcEmeC3DyQ",
        "colab": {
          "base_uri": "https://localhost:8080/"
        },
        "outputId": "83c53923-9acf-4cea-fc3d-a69cbbfd301f"
      },
      "source": [
        "# Shape\n",
        "print(train.count(),'x',len(train.columns))"
      ],
      "execution_count": null,
      "outputs": [
        {
          "output_type": "stream",
          "text": [
            "76020 x 371\n"
          ],
          "name": "stdout"
        }
      ]
    },
    {
      "cell_type": "code",
      "metadata": {
        "id": "xFGmzFrjwjvy",
        "colab": {
          "base_uri": "https://localhost:8080/"
        },
        "outputId": "0296ffaf-7ca8-4dd4-fadb-473939173c0e"
      },
      "source": [
        "# Target distribuition\n",
        "# Happy customers have TARGET == 0, unhappy custormers have TARGET == 1\n",
        "\n",
        "dist_target = train.groupBy('TARGET').count() \\\n",
        "  .withColumn('percentage', 100 * col('count') / train.count())\n",
        "\n",
        "dist_target.show()"
      ],
      "execution_count": null,
      "outputs": [
        {
          "output_type": "stream",
          "text": [
            "+------+-----+------------------+\n",
            "|TARGET|count|        percentage|\n",
            "+------+-----+------------------+\n",
            "|     1| 3008|3.9568534596158904|\n",
            "|     0|73012| 96.04314654038411|\n",
            "+------+-----+------------------+\n",
            "\n"
          ],
          "name": "stdout"
        }
      ]
    },
    {
      "cell_type": "markdown",
      "metadata": {
        "id": "gZ4QRVj1xmf4"
      },
      "source": [
        "## var3: nationality of the customer"
      ]
    },
    {
      "cell_type": "code",
      "metadata": {
        "id": "YAvyjjxm2YbS"
      },
      "source": [
        "# Top 20 most common values\n",
        "\n",
        "# 116 values in column var3 are -999999\n",
        "# var3 is suspected to be the nationality of the customer\n",
        "# -999999 would mean that the nationality of the customer is unknown\n",
        "\n",
        "train.groupBy('var3').count().sort(col('count').desc()).show()"
      ],
      "execution_count": null,
      "outputs": []
    },
    {
      "cell_type": "code",
      "metadata": {
        "id": "9NGDlHhWBb74",
        "colab": {
          "base_uri": "https://localhost:8080/"
        },
        "outputId": "ec660da7-fd51-4b03-8589-31aadacbc7d8"
      },
      "source": [
        "# Count -999999 values\n",
        "train.filter(train['var3'] == -999999).count()"
      ],
      "execution_count": null,
      "outputs": [
        {
          "output_type": "execute_result",
          "data": {
            "text/plain": [
              "116"
            ]
          },
          "metadata": {
            "tags": []
          },
          "execution_count": 64
        }
      ]
    },
    {
      "cell_type": "code",
      "metadata": {
        "id": "Y6LnnKZ-6SX6"
      },
      "source": [
        "train.show()"
      ],
      "execution_count": null,
      "outputs": []
    },
    {
      "cell_type": "code",
      "metadata": {
        "id": "YYgHdCnzGmlL"
      },
      "source": [
        "# Replace -999999 in var3 column with most common value 2 \n",
        "# See https://www.kaggle.com/cast42/santander-customer-satisfaction/debugging-var3-999999\n",
        "# for details\n",
        "train2 = train.withColumn('var3', \\\n",
        "                          when(train['var3'] == -999999, 2).otherwise(col('var3')))"
      ],
      "execution_count": null,
      "outputs": []
    },
    {
      "cell_type": "code",
      "metadata": {
        "id": "Pp71P5KDHKbS",
        "colab": {
          "base_uri": "https://localhost:8080/"
        },
        "outputId": "31e4f68a-7fcc-43dd-ccd8-ac7aba19f4ac"
      },
      "source": [
        "# Check replaced values\n",
        "train2.filter(train2['var3'] == -999999).count()"
      ],
      "execution_count": null,
      "outputs": [
        {
          "output_type": "execute_result",
          "data": {
            "text/plain": [
              "0"
            ]
          },
          "metadata": {
            "tags": []
          },
          "execution_count": 136
        }
      ]
    },
    {
      "cell_type": "code",
      "metadata": {
        "colab": {
          "base_uri": "https://localhost:8080/"
        },
        "id": "4V8OO8bRXtSz",
        "outputId": "22aaf7c0-beba-4017-98a9-d30660c2de3a"
      },
      "source": [
        "train2.select('var3').summary().show()"
      ],
      "execution_count": null,
      "outputs": [
        {
          "output_type": "stream",
          "text": [
            "+-------+------------------+\n",
            "|summary|              var3|\n",
            "+-------+------------------+\n",
            "|  count|             76020|\n",
            "|   mean|2.7164825046040515|\n",
            "| stddev|  9.44797132801507|\n",
            "|    min|                 0|\n",
            "|    25%|                 2|\n",
            "|    50%|                 2|\n",
            "|    75%|                 2|\n",
            "|    max|               238|\n",
            "+-------+------------------+\n",
            "\n"
          ],
          "name": "stdout"
        }
      ]
    },
    {
      "cell_type": "code",
      "metadata": {
        "id": "lJTtqhbLyFCt"
      },
      "source": [
        "train2.show()"
      ],
      "execution_count": null,
      "outputs": []
    },
    {
      "cell_type": "markdown",
      "metadata": {
        "id": "q-3Cxs-Kw7mC"
      },
      "source": [
        "## Add feature that counts the number of zeros in a row"
      ]
    },
    {
      "cell_type": "code",
      "metadata": {
        "id": "qxmIK9RiHONf"
      },
      "source": [
        "# Removes TARGET variable\n",
        "X = train2.drop('TARGET')\n",
        "\n",
        "# Select only TARGET variable\n",
        "y = train2.select('TARGET')"
      ],
      "execution_count": null,
      "outputs": []
    },
    {
      "cell_type": "code",
      "metadata": {
        "colab": {
          "base_uri": "https://localhost:8080/"
        },
        "id": "5ZyNoMue6oeg",
        "outputId": "3776edc5-4a71-47ad-cbec-e613c0dc8e96"
      },
      "source": [
        "# Null values\r\n",
        "X.where(col('var3').isNull()).count()"
      ],
      "execution_count": null,
      "outputs": [
        {
          "output_type": "execute_result",
          "data": {
            "text/plain": [
              "0"
            ]
          },
          "metadata": {
            "tags": []
          },
          "execution_count": 141
        }
      ]
    },
    {
      "cell_type": "code",
      "metadata": {
        "colab": {
          "base_uri": "https://localhost:8080/"
        },
        "id": "rYzho_rH7wMg",
        "outputId": "e34a993e-64da-4693-e111-079a0dde04e7"
      },
      "source": [
        "# Not Null values\r\n",
        "X.where(col('var3').isNotNull()).count()"
      ],
      "execution_count": null,
      "outputs": [
        {
          "output_type": "execute_result",
          "data": {
            "text/plain": [
              "76020"
            ]
          },
          "metadata": {
            "tags": []
          },
          "execution_count": 142
        }
      ]
    },
    {
      "cell_type": "code",
      "metadata": {
        "id": "HZwpdIHQVpTW"
      },
      "source": [
        "# Counting 0s in a row - row wise operation\r\n",
        "X = X.withColumn(\"n0\", sum(when(X[col] == 0, 1).otherwise(0) for col in X.columns))\r\n",
        "\r\n",
        "# Merge n0 column into train dataset\r\n",
        "train3 = train.join(X.select('n0','ID'),on=['ID'],how='outer')\r\n",
        "\r\n",
        "train3.cache()"
      ],
      "execution_count": null,
      "outputs": []
    },
    {
      "cell_type": "markdown",
      "metadata": {
        "id": "1XqemlpvwNIE"
      },
      "source": [
        "## num_var4 : number of bank products"
      ]
    },
    {
      "cell_type": "code",
      "metadata": {
        "id": "Ema7g8vezoGw",
        "colab": {
          "base_uri": "https://localhost:8080/",
          "height": 301
        },
        "outputId": "de5fab69-0470-4d8a-a2d4-9f28edeb7f2b"
      },
      "source": [
        "# According to dmi3kno (see https://www.kaggle.com/cast42/santander-customer-satisfaction/exploring-features/comments#115223)\n",
        "# num_var4 is the number of products. Let's plot the distribution:\n",
        "train3.toPandas().num_var4.hist(bins=100)\n",
        "plt.xlabel('Number of bank products')\n",
        "plt.ylabel('Number of customers in train')\n",
        "plt.title('Most customers have 1 product with the bank')\n",
        "plt.show()"
      ],
      "execution_count": null,
      "outputs": [
        {
          "output_type": "display_data",
          "data": {
            "image/png": "[encoded data removed]",
            "text/plain": [
              "<Figure size 432x288 with 1 Axes>"
            ]
          },
          "metadata": {
            "tags": []
          }
        }
      ]
    },
    {
      "cell_type": "code",
      "metadata": {
        "id": "m6HnbVqHLAy6",
        "colab": {
          "base_uri": "https://localhost:8080/",
          "height": 453
        },
        "outputId": "2a0e258f-6262-46d6-b81f-ee46be7f5503"
      },
      "source": [
        "# Let's look at the density of the of happy/unhappy customers in function of the number of bank products\n",
        "sns.FacetGrid(train3.toPandas(), hue='TARGET', size=6)\\\n",
        "  .map(plt.hist,'num_var4')\\\n",
        "  .add_legend()\n",
        "plt.title('Unhappy customers have less products')\n",
        "plt.show()"
      ],
      "execution_count": null,
      "outputs": [
        {
          "output_type": "display_data",
          "data": {
            "image/png": "[encoded data removed]",
            "text/plain": [
              "<Figure size 487.925x432 with 1 Axes>"
            ]
          },
          "metadata": {
            "tags": []
          }
        }
      ]
    },
    {
      "cell_type": "code",
      "metadata": {
        "colab": {
          "base_uri": "https://localhost:8080/",
          "height": 284
        },
        "id": "8O4LIs9UwCCU",
        "outputId": "f6ea41c0-4f59-4841-c8b1-24122e9a9b50"
      },
      "source": [
        "train3.toPandas()[train3.toPandas().TARGET == 1].num_var4.hist(bins=6)\n",
        "plt.title('Amount of unhappy customers in function of the number of products')\n",
        "plt.show()"
      ],
      "execution_count": null,
      "outputs": [
        {
          "output_type": "display_data",
          "data": {
            "image/png": "[encoded data removed]",
            "text/plain": [
              "<Figure size 432x288 with 1 Axes>"
            ]
          },
          "metadata": {
            "tags": []
          }
        }
      ]
    },
    {
      "cell_type": "markdown",
      "metadata": {
        "id": "5zgE_gRf59GQ"
      },
      "source": [
        "##Var38\n",
        "Var38 is suspected to be the mortage value with the bank. If the mortage is with another bank the national average is used. \n",
        "See https://www.kaggle.com/c/santander-customer-satisfaction/forums/t/19895/var38-is-mortgage-value\n",
        "\n",
        "\n",
        "\n",
        "*   var38 is important according to XGBOOST see https://www.kaggle.com/cast42/santander-customer-satisfaction/xgboost-with-early-stopping/files\n",
        "*   Also RFC thinks var38 is important see https://www.kaggle.com/tks0123456789/santander-customer-satisfaction/data-exploration/notebook\n",
        "*   Var38 is suspected to be the mortage value with the bank. If the mortage is with another bank the national average is used. See https://www.kaggle.com/c/santander-customer-satisfaction/forums/t/19895/var38-is-mortgage-value\n",
        "*   dmi3kno says that var38 is value of the customer: https://www.kaggle.com/cast42/santander-customer-satisfaction/exploring-features/comments#115223\n",
        "\n",
        "\n",
        "\n",
        "\n",
        "\n",
        "\n",
        "\n",
        "\n"
      ]
    },
    {
      "cell_type": "code",
      "metadata": {
        "id": "AEs7kRXRwCWZ"
      },
      "source": [
        "sum_train3_var38 = train3.select('var38').summary()"
      ],
      "execution_count": null,
      "outputs": []
    },
    {
      "cell_type": "code",
      "metadata": {
        "id": "uQwFquKCwClD",
        "colab": {
          "base_uri": "https://localhost:8080/"
        },
        "outputId": "32dc0a63-08bc-4ed8-ed01-60768c557946"
      },
      "source": [
        "sum_train3_var38.show()"
      ],
      "execution_count": null,
      "outputs": [
        {
          "output_type": "stream",
          "text": [
            "+-------+------------------+\n",
            "|summary|             var38|\n",
            "+-------+------------------+\n",
            "|  count|             76020|\n",
            "|   mean|117235.80943037667|\n",
            "| stddev|182664.59850287266|\n",
            "|    min|           5163.75|\n",
            "|    25%|          67854.57|\n",
            "|    50%|          106412.1|\n",
            "|    75%|          118725.9|\n",
            "|    max|     2.203473876E7|\n",
            "+-------+------------------+\n",
            "\n"
          ],
          "name": "stdout"
        }
      ]
    },
    {
      "cell_type": "code",
      "metadata": {
        "id": "NKgUX-1GwC0e",
        "colab": {
          "base_uri": "https://localhost:8080/"
        },
        "outputId": "fae9217b-207b-40b0-f1a5-5beec0b0d56c"
      },
      "source": [
        "# How is var38 looking when customer is unhappy?\n",
        "train3.select('var38').where(train3['TARGET'] == 1).summary().show()"
      ],
      "execution_count": null,
      "outputs": [
        {
          "output_type": "stream",
          "text": [
            "+-------+------------------+\n",
            "|summary|             var38|\n",
            "+-------+------------------+\n",
            "|  count|              3008|\n",
            "|   mean| 99678.28059046788|\n",
            "| stddev|106309.81149003105|\n",
            "|    min|          11136.63|\n",
            "|    25%|          57159.12|\n",
            "|    50%|          86191.05|\n",
            "|    75%|  117310.979016494|\n",
            "|    max|         3988595.1|\n",
            "+-------+------------------+\n",
            "\n"
          ],
          "name": "stdout"
        }
      ]
    },
    {
      "cell_type": "code",
      "metadata": {
        "colab": {
          "base_uri": "https://localhost:8080/",
          "height": 331
        },
        "id": "qMR1wJJeGosf",
        "outputId": "b2a05c9f-997d-4ccd-ce0e-200984db5e62"
      },
      "source": [
        "# There is a pike\n",
        "train3.select('var38').toPandas().hist(bins=1000,ec='k')"
      ],
      "execution_count": null,
      "outputs": [
        {
          "output_type": "execute_result",
          "data": {
            "text/plain": [
              "array([[<matplotlib.axes._subplots.AxesSubplot object at 0x7fdb1440c780>]],\n",
              "      dtype=object)"
            ]
          },
          "metadata": {
            "tags": []
          },
          "execution_count": 85
        },
        {
          "output_type": "display_data",
          "data": {
            "image/png": "[encoded data removed]",
            "text/plain": [
              "<Figure size 432x288 with 1 Axes>"
            ]
          },
          "metadata": {
            "tags": []
          }
        }
      ]
    },
    {
      "cell_type": "code",
      "metadata": {
        "colab": {
          "base_uri": "https://localhost:8080/",
          "height": 285
        },
        "id": "XI0cVk5HWZeX",
        "outputId": "81ede6d7-f723-4a23-d0c8-21fa616678ff"
      },
      "source": [
        "# Apply log normalization in each value in var38\n",
        "# https://campus.datacamp.com/courses/preprocessing-for-machine-learning-in-python/standardizing-data?ex=4\n",
        "# Argument ec = edgecolor\n",
        "train3.toPandas().var38.map(np.log).hist(bins=100,ec='k')"
      ],
      "execution_count": null,
      "outputs": [
        {
          "output_type": "execute_result",
          "data": {
            "text/plain": [
              "<matplotlib.axes._subplots.AxesSubplot at 0x7fdb101a3cf8>"
            ]
          },
          "metadata": {
            "tags": []
          },
          "execution_count": 86
        },
        {
          "output_type": "display_data",
          "data": {
            "image/png": "[encoded data removed]",
            "text/plain": [
              "<Figure size 432x288 with 1 Axes>"
            ]
          },
          "metadata": {
            "tags": []
          }
        }
      ]
    },
    {
      "cell_type": "code",
      "metadata": {
        "colab": {
          "base_uri": "https://localhost:8080/"
        },
        "id": "_xXSD-xojjyB",
        "outputId": "4b1d7344-b893-42fb-da17-043a08f9fbea"
      },
      "source": [
        "# Where is the spike between 11 and 12  in the log plot?\n",
        "train3.toPandas().var38.map(np.log).mode()"
      ],
      "execution_count": null,
      "outputs": [
        {
          "output_type": "execute_result",
          "data": {
            "text/plain": [
              "0    11.672584\n",
              "dtype: float64"
            ]
          },
          "metadata": {
            "tags": []
          },
          "execution_count": 75
        }
      ]
    },
    {
      "cell_type": "code",
      "metadata": {
        "colab": {
          "base_uri": "https://localhost:8080/"
        },
        "id": "G_ni-KwwsA7v",
        "outputId": "145748b5-b091-407e-cc1c-526b3f7d70f2"
      },
      "source": [
        "# What are the most common values for var38?\n",
        "train3.groupBy('var38').count().sort(col('count').desc()).show()\n",
        "\n",
        "# OBS: The np.log(117310.979016494) is equal to 11.672584"
      ],
      "execution_count": null,
      "outputs": [
        {
          "output_type": "stream",
          "text": [
            "+----------------+-----+\n",
            "|           var38|count|\n",
            "+----------------+-----+\n",
            "|117310.979016494|14868|\n",
            "|       451931.22|   16|\n",
            "|       463625.16|   12|\n",
            "|        104563.8|   11|\n",
            "|       288997.44|   11|\n",
            "|       236690.34|    8|\n",
            "|       329603.97|    7|\n",
            "|       128318.52|    7|\n",
            "|        67088.31|    7|\n",
            "|       104644.41|    7|\n",
            "|       125722.44|    7|\n",
            "|       163432.47|    6|\n",
            "|        97639.56|    6|\n",
            "|       185385.69|    6|\n",
            "|       168733.62|    6|\n",
            "|         70813.8|    6|\n",
            "|       100466.73|    6|\n",
            "|       105260.88|    6|\n",
            "|        63820.89|    5|\n",
            "|        171932.7|    5|\n",
            "+----------------+-----+\n",
            "only showing top 20 rows\n",
            "\n"
          ],
          "name": "stdout"
        }
      ]
    },
    {
      "cell_type": "code",
      "metadata": {
        "colab": {
          "base_uri": "https://localhost:8080/"
        },
        "id": "Hx9g-PFHtktf",
        "outputId": "4866eaa3-ce64-4b2e-e21e-e4f8aa8a4309"
      },
      "source": [
        "np.log(117310.979016494)"
      ],
      "execution_count": null,
      "outputs": [
        {
          "output_type": "execute_result",
          "data": {
            "text/plain": [
              "11.672583628015142"
            ]
          },
          "metadata": {
            "tags": []
          },
          "execution_count": 79
        }
      ]
    },
    {
      "cell_type": "code",
      "metadata": {
        "colab": {
          "base_uri": "https://localhost:8080/"
        },
        "id": "6e-G5lA0cnik",
        "outputId": "a7c5fd0d-bdcc-4a97-cb0d-1f7c4941c7af"
      },
      "source": [
        "# the most common value is very close to the mean of the other values\n",
        "# mean 117217.53330847736\n",
        "train3.select('var38').where(train3['var38'] != 117310.979016494).summary().show()"
      ],
      "execution_count": null,
      "outputs": [
        {
          "output_type": "stream",
          "text": [
            "+-------+------------------+\n",
            "|summary|             var38|\n",
            "+-------+------------------+\n",
            "|  count|             61152|\n",
            "|   mean|117217.53330847727|\n",
            "| stddev| 203663.7200319098|\n",
            "|    min|           5163.75|\n",
            "|    25%|          61671.24|\n",
            "|    50%|          88893.87|\n",
            "|    75%|          132496.2|\n",
            "|    max|     2.203473876E7|\n",
            "+-------+------------------+\n",
            "\n"
          ],
          "name": "stdout"
        }
      ]
    },
    {
      "cell_type": "code",
      "metadata": {
        "id": "MpVqZ-A-te35",
        "colab": {
          "base_uri": "https://localhost:8080/"
        },
        "outputId": "dccba19d-33b3-4c11-ce06-5f14a3007a98"
      },
      "source": [
        "# what if we exclude the most common value\n",
        "train3.where(train3['var38'] != 117310.979016494)\\\n",
        "    .groupBy('var38')\\\n",
        "    .count()\\\n",
        "    .sort(col('count')\\\n",
        "    .desc())\\\n",
        "    .show()"
      ],
      "execution_count": null,
      "outputs": [
        {
          "output_type": "stream",
          "text": [
            "+---------+-----+\n",
            "|    var38|count|\n",
            "+---------+-----+\n",
            "|451931.22|   16|\n",
            "|463625.16|   12|\n",
            "|288997.44|   11|\n",
            "| 104563.8|   11|\n",
            "|236690.34|    8|\n",
            "| 67088.31|    7|\n",
            "|128318.52|    7|\n",
            "|329603.97|    7|\n",
            "|104644.41|    7|\n",
            "|125722.44|    7|\n",
            "|163432.47|    6|\n",
            "| 97639.56|    6|\n",
            "|105260.88|    6|\n",
            "|100466.73|    6|\n",
            "|  70813.8|    6|\n",
            "|168733.62|    6|\n",
            "|185385.69|    6|\n",
            "| 63820.89|    5|\n",
            "|126065.04|    5|\n",
            "|229351.65|    5|\n",
            "+---------+-----+\n",
            "only showing top 20 rows\n",
            "\n"
          ],
          "name": "stdout"
        }
      ]
    },
    {
      "cell_type": "code",
      "metadata": {
        "colab": {
          "base_uri": "https://localhost:8080/",
          "height": 285
        },
        "id": "OYbEuxM5h-4F",
        "outputId": "023983a8-a94c-4118-a8bc-4b0eb37ed3bb"
      },
      "source": [
        "# Look at the distribution\n",
        "train3.toPandas().loc[~np.isclose(train3.select(\"var38\")\\\n",
        "                                  .rdd.flatMap(lambda x: x)\\\n",
        "                                  .collect(), 117310.979016494),'var38']\\\n",
        "                                  .map(np.log).hist(bins=100,ec='k')"
      ],
      "execution_count": null,
      "outputs": [
        {
          "output_type": "execute_result",
          "data": {
            "text/plain": [
              "<matplotlib.axes._subplots.AxesSubplot at 0x7fdb07204780>"
            ]
          },
          "metadata": {
            "tags": []
          },
          "execution_count": 90
        },
        {
          "output_type": "display_data",
          "data": {
            "image/png": "[encoded data removed]",
            "text/plain": [
              "<Figure size 432x288 with 1 Axes>"
            ]
          },
          "metadata": {
            "tags": []
          }
        }
      ]
    },
    {
      "cell_type": "markdown",
      "metadata": {
        "id": "CjkI0dA0p7Pa"
      },
      "source": [
        "Above plot suggest we split up var38 into two variables:\n",
        "* `var38mc == True` when `var38` has the most common value and `False` otherwise;\n",
        "* `logvar38` is log transformed feature when `var38mc` is `0`, zero otherwise;"
      ]
    },
    {
      "cell_type": "code",
      "metadata": {
        "id": "kzZsbmV-T9ru"
      },
      "source": [
        "# train.loc[train['var38mc'], 'logvar38'] = 0"
      ],
      "execution_count": null,
      "outputs": []
    },
    {
      "cell_type": "code",
      "metadata": {
        "id": "ApuJkMvEhM7-"
      },
      "source": [
        "udf_var38mc = udf(lambda x: bool(np.isclose(x, 117310.979016494)), BooleanType())"
      ],
      "execution_count": null,
      "outputs": []
    },
    {
      "cell_type": "code",
      "metadata": {
        "id": "PVmcdYhSQcie"
      },
      "source": [
        "udf_logvar38 = udf(lambda x: float(np.log(x)), FloatType())"
      ],
      "execution_count": null,
      "outputs": []
    },
    {
      "cell_type": "code",
      "metadata": {
        "id": "PuKbv_yXtpJu"
      },
      "source": [
        "train4 = train3.withColumn('var38mc', udf_var38mc('var38'))"
      ],
      "execution_count": null,
      "outputs": []
    },
    {
      "cell_type": "code",
      "metadata": {
        "id": "S6tx3FkJzpPT"
      },
      "source": [
        "train5 = train4.withColumn('logvar38', when(col('var38mc') == False, udf_logvar38('var38'))\\\r\n",
        "                                      .otherwise(0.0))"
      ],
      "execution_count": null,
      "outputs": []
    },
    {
      "cell_type": "code",
      "metadata": {
        "id": "jCLOko4bpIWt"
      },
      "source": [
        "# Not run, just to test the logic\n",
        "# train5 = train4.withColumn('logvar38', when(col('var38mc') == False, udf_logvar38('var38')))"
      ],
      "execution_count": null,
      "outputs": []
    },
    {
      "cell_type": "code",
      "metadata": {
        "colab": {
          "base_uri": "https://localhost:8080/"
        },
        "id": "MaY1UxPbYNTY",
        "outputId": "472a335b-8aa9-4093-8df5-afd05573e469"
      },
      "source": [
        "# Check NaN values in logvar38 and var38mc\r\n",
        "train5.select([count(when(isnan('logvar38') | col('logvar38').isNull(), True)).alias('logvar38_isnan?')]).show()"
      ],
      "execution_count": null,
      "outputs": [
        {
          "output_type": "stream",
          "text": [
            "+---------------+\n",
            "|logvar38_isnan?|\n",
            "+---------------+\n",
            "|              0|\n",
            "+---------------+\n",
            "\n"
          ],
          "name": "stdout"
        }
      ]
    },
    {
      "cell_type": "code",
      "metadata": {
        "colab": {
          "base_uri": "https://localhost:8080/"
        },
        "id": "WcF_LOJCramm",
        "outputId": "6ab1e5eb-d759-4de9-c8f3-f04c96c455b1"
      },
      "source": [
        "# isnan() doesn't support boolen values\r\n",
        "train5.select([count(when(col('var38mc').isNull(), True)).alias('var38mc_isnan?')]).show()"
      ],
      "execution_count": null,
      "outputs": [
        {
          "output_type": "stream",
          "text": [
            "+--------------+\n",
            "|var38mc_isnan?|\n",
            "+--------------+\n",
            "|             0|\n",
            "+--------------+\n",
            "\n"
          ],
          "name": "stdout"
        }
      ]
    },
    {
      "cell_type": "code",
      "metadata": {
        "id": "bkjK1ZW2r3QW"
      },
      "source": [
        "train5.show()"
      ],
      "execution_count": null,
      "outputs": []
    },
    {
      "cell_type": "markdown",
      "metadata": {
        "id": "Fw7IPnGvET3j"
      },
      "source": [
        "## Var15\n",
        "The most important feature for XGBoost is var15. According to [a Kaggle form](https://www.kaggle.com/c/santander-customer-satisfaction/forums/t/19291/data-dictionary/110414#post110414) post var15 is the age of the customer. \n",
        "Let's explore var15"
      ]
    },
    {
      "cell_type": "code",
      "metadata": {
        "colab": {
          "base_uri": "https://localhost:8080/"
        },
        "id": "w_v2yUQ1FFNC",
        "outputId": "581b6bc3-c860-44f8-fb36-e55d8f8c896e"
      },
      "source": [
        "train5.select('var15').summary().show()"
      ],
      "execution_count": null,
      "outputs": [
        {
          "output_type": "stream",
          "text": [
            "+-------+------------------+\n",
            "|summary|             var15|\n",
            "+-------+------------------+\n",
            "|  count|             76020|\n",
            "|   mean| 33.21286503551697|\n",
            "| stddev|12.956485816411226|\n",
            "|    min|                 5|\n",
            "|    25%|                23|\n",
            "|    50%|                28|\n",
            "|    75%|                40|\n",
            "|    max|               105|\n",
            "+-------+------------------+\n",
            "\n"
          ],
          "name": "stdout"
        }
      ]
    },
    {
      "cell_type": "code",
      "metadata": {
        "colab": {
          "base_uri": "https://localhost:8080/",
          "height": 285
        },
        "id": "zG7dkKRwFFsT",
        "outputId": "d29a66e9-8d46-4aec-a880-5e0ba3b14d7f"
      },
      "source": [
        "# Looks more normal, plot the histogram\n",
        "# train3.toPandas().var38.map(np.log).hist(bins=100,ec='k')\n",
        "train5.toPandas().var15.hist(bins=100)"
      ],
      "execution_count": null,
      "outputs": [
        {
          "output_type": "execute_result",
          "data": {
            "text/plain": [
              "<matplotlib.axes._subplots.AxesSubplot at 0x7fdb06f447f0>"
            ]
          },
          "metadata": {
            "tags": []
          },
          "execution_count": 99
        },
        {
          "output_type": "display_data",
          "data": {
            "image/png": "[encoded data removed]",
            "text/plain": [
              "<Figure size 432x288 with 1 Axes>"
            ]
          },
          "metadata": {
            "tags": []
          }
        }
      ]
    },
    {
      "cell_type": "code",
      "metadata": {
        "colab": {
          "base_uri": "https://localhost:8080/",
          "height": 453
        },
        "id": "Hueo0GLdFF96",
        "outputId": "5f9e5f1d-1b16-42a6-d37a-03900b7b1c5c"
      },
      "source": [
        "# Let's look at the density of the age of happy/unhappy customers\n",
        "sns.FacetGrid(train5.toPandas(), hue='TARGET', size=6)\\\n",
        "  .map(sns.kdeplot,'var15')\\\n",
        "  .add_legend()\n",
        "plt.title('Unhappy customers are slightly older')\n",
        "plt.show()"
      ],
      "execution_count": null,
      "outputs": [
        {
          "output_type": "display_data",
          "data": {
            "image/png": "[encoded data removed]",
            "text/plain": [
              "<Figure size 487.925x432 with 1 Axes>"
            ]
          },
          "metadata": {
            "tags": []
          }
        }
      ]
    },
    {
      "cell_type": "markdown",
      "metadata": {
        "id": "fWr2ZdePdJeO"
      },
      "source": [
        "## saldo_var30"
      ]
    },
    {
      "cell_type": "code",
      "metadata": {
        "id": "voHIK5TYFGPq",
        "colab": {
          "base_uri": "https://localhost:8080/",
          "height": 298
        },
        "outputId": "cb0977ad-37d7-482c-9185-f272ac67ea48"
      },
      "source": [
        "train5.toPandas().saldo_var30.hist(bins=100)\n",
        "plt.xlim(0,train5.toPandas().saldo_var30.max())"
      ],
      "execution_count": null,
      "outputs": [
        {
          "output_type": "execute_result",
          "data": {
            "text/plain": [
              "(0.0, 3458077.32)"
            ]
          },
          "metadata": {
            "tags": []
          },
          "execution_count": 101
        },
        {
          "output_type": "display_data",
          "data": {
            "image/png": "[encoded data removed]",
            "text/plain": [
              "<Figure size 432x288 with 1 Axes>"
            ]
          },
          "metadata": {
            "tags": []
          }
        }
      ]
    },
    {
      "cell_type": "code",
      "metadata": {
        "id": "FAUkyiN8FGk_"
      },
      "source": [
        "udf_log_var = udf(lambda x: float(np.log(x)), FloatType())"
      ],
      "execution_count": null,
      "outputs": []
    },
    {
      "cell_type": "code",
      "metadata": {
        "id": "miLESro4eiAW"
      },
      "source": [
        "train6 = train5.withColumn('log_saldo_var30', udf_log_var('saldo_var30'))"
      ],
      "execution_count": null,
      "outputs": []
    },
    {
      "cell_type": "code",
      "metadata": {
        "id": "kmbkLPkpqN2k"
      },
      "source": [
        "# Log 0.0 is converted to NaN values to not appear as -Infinity values\n",
        "train7 = train5.withColumn('log_saldo_var30', when(col('saldo_var30') != 0.0, udf_log_var('saldo_var30'))\\\n",
        "                                             .otherwise(np.nan))"
      ],
      "execution_count": null,
      "outputs": []
    },
    {
      "cell_type": "code",
      "metadata": {
        "colab": {
          "base_uri": "https://localhost:8080/"
        },
        "id": "qzEFDA4ortFb",
        "outputId": "0957314f-a3f4-429d-cdc1-251870badbdd"
      },
      "source": [
        "train7.select('saldo_var30','log_saldo_var30').show()"
      ],
      "execution_count": null,
      "outputs": [
        {
          "output_type": "stream",
          "text": [
            "+-----------+------------------+\n",
            "|saldo_var30|   log_saldo_var30|\n",
            "+-----------+------------------+\n",
            "|      780.0| 6.659294128417969|\n",
            "|        0.0|               NaN|\n",
            "|        0.0|               NaN|\n",
            "|       90.0| 4.499809741973877|\n",
            "|    30000.0|10.308952331542969|\n",
            "|        0.0|               NaN|\n",
            "|        0.0|               NaN|\n",
            "|        3.0|1.0986123085021973|\n",
            "|        0.0|               NaN|\n",
            "|      120.0| 4.787491798400879|\n",
            "|        3.0|1.0986123085021973|\n",
            "|       22.8| 3.126760482788086|\n",
            "|       90.0| 4.499809741973877|\n",
            "|        0.0|               NaN|\n",
            "|     204.96|  5.32281494140625|\n",
            "|        3.0|1.0986123085021973|\n",
            "|      750.0| 6.620073318481445|\n",
            "|   219000.0| 12.29682731628418|\n",
            "|       90.0| 4.499809741973877|\n",
            "|        3.0|1.0986123085021973|\n",
            "+-----------+------------------+\n",
            "only showing top 20 rows\n",
            "\n"
          ],
          "name": "stdout"
        }
      ]
    },
    {
      "cell_type": "code",
      "metadata": {
        "colab": {
          "base_uri": "https://localhost:8080/",
          "height": 437
        },
        "id": "7LPbWsBqfJRT",
        "outputId": "e9d2f58c-e0d7-4fcb-ee3d-1c3aa3abf96a"
      },
      "source": [
        "# Let's look at the density of the age of happy/unhappy customers for saldo_var30\n",
        "sns.FacetGrid(train7.toPandas(), hue=\"TARGET\", size=6) \\\n",
        "   .map(sns.kdeplot, \"log_saldo_var30\") \\\n",
        "   .add_legend();"
      ],
      "execution_count": null,
      "outputs": [
        {
          "output_type": "display_data",
          "data": {
            "image/png": "[encoded data removed]",
            "text/plain": [
              "<Figure size 487.925x432 with 1 Axes>"
            ]
          },
          "metadata": {
            "tags": []
          }
        }
      ]
    },
    {
      "cell_type": "markdown",
      "metadata": {
        "id": "Xq7ykdKcG8xb"
      },
      "source": [
        "## Explore the interaction between var15 (age) and var38"
      ]
    },
    {
      "cell_type": "code",
      "metadata": {
        "id": "W4yQG4OCGx7o",
        "colab": {
          "base_uri": "https://localhost:8080/",
          "height": 598
        },
        "outputId": "d9c6fe69-08f4-40f8-8225-7c68584cadb4"
      },
      "source": [
        "sns.FacetGrid(train7.toPandas(), hue=\"TARGET\", size=8) \\\n",
        "   .map(plt.scatter, \"var38\", \"var15\") \\\n",
        "   .add_legend()"
      ],
      "execution_count": null,
      "outputs": [
        {
          "output_type": "execute_result",
          "data": {
            "text/plain": [
              "<seaborn.axisgrid.FacetGrid at 0x7fdb100292b0>"
            ]
          },
          "metadata": {
            "tags": []
          },
          "execution_count": 107
        },
        {
          "output_type": "display_data",
          "data": {
            "image/png": "[encoded data removed]",
            "text/plain": [
              "<Figure size 631.925x576 with 1 Axes>"
            ]
          },
          "metadata": {
            "tags": []
          }
        }
      ]
    },
    {
      "cell_type": "code",
      "metadata": {
        "id": "62lSE5AFGykO",
        "colab": {
          "base_uri": "https://localhost:8080/",
          "height": 602
        },
        "outputId": "aaf73f33-c72a-4db5-90cb-ce64d142c4a6"
      },
      "source": [
        "# Age must be positive\n",
        "sns.FacetGrid(train7.toPandas(), hue=\"TARGET\", size=8) \\\n",
        "   .map(plt.scatter, \"logvar38\", \"var15\") \\\n",
        "   .add_legend()\n",
        "plt.ylim([0,120])"
      ],
      "execution_count": null,
      "outputs": [
        {
          "output_type": "execute_result",
          "data": {
            "text/plain": [
              "(0.0, 120.0)"
            ]
          },
          "metadata": {
            "tags": []
          },
          "execution_count": 108
        },
        {
          "output_type": "display_data",
          "data": {
            "image/png": "[encoded data removed]",
            "text/plain": [
              "<Figure size 631.925x576 with 1 Axes>"
            ]
          },
          "metadata": {
            "tags": []
          }
        }
      ]
    },
    {
      "cell_type": "code",
      "metadata": {
        "id": "JY5-zfGxGy6i",
        "colab": {
          "base_uri": "https://localhost:8080/",
          "height": 585
        },
        "outputId": "f8ca9b1c-d066-4dee-9227-cce7b642ede9"
      },
      "source": [
        "# Exclude most common value for var38 \n",
        "sns.FacetGrid(train7.toPandas()[~train7.toPandas().var38mc], hue=\"TARGET\", size=8) \\\n",
        "   .map(plt.scatter, \"logvar38\", \"var15\") \\\n",
        "   .add_legend()\n",
        "plt.ylim([0,120]);"
      ],
      "execution_count": null,
      "outputs": [
        {
          "output_type": "display_data",
          "data": {
            "image/png": "[encoded data removed]",
            "text/plain": [
              "<Figure size 631.925x576 with 1 Axes>"
            ]
          },
          "metadata": {
            "tags": []
          }
        }
      ]
    },
    {
      "cell_type": "code",
      "metadata": {
        "id": "vQPIc6qdGzPX",
        "colab": {
          "base_uri": "https://localhost:8080/",
          "height": 454
        },
        "outputId": "0439a6bf-61cb-4f34-cbcc-7c0533ae8239"
      },
      "source": [
        "# What is distribution of the age when var38 has it's most common value ?\n",
        "sns.FacetGrid(train7.toPandas()[train7.toPandas().var38mc], hue=\"TARGET\", size=6) \\\n",
        "   .map(sns.kdeplot, \"var15\") \\\n",
        "   .add_legend()"
      ],
      "execution_count": null,
      "outputs": [
        {
          "output_type": "execute_result",
          "data": {
            "text/plain": [
              "<seaborn.axisgrid.FacetGrid at 0x7fdb021dc0f0>"
            ]
          },
          "metadata": {
            "tags": []
          },
          "execution_count": 110
        },
        {
          "output_type": "display_data",
          "data": {
            "image/png": "[encoded data removed]",
            "text/plain": [
              "<Figure size 487.925x432 with 1 Axes>"
            ]
          },
          "metadata": {
            "tags": []
          }
        }
      ]
    },
    {
      "cell_type": "code",
      "metadata": {
        "colab": {
          "base_uri": "https://localhost:8080/",
          "height": 453
        },
        "id": "xhr1WQonJkic",
        "outputId": "50cfbf60-5184-4b13-882a-260bd5ccef69"
      },
      "source": [
        "# What is density of n0?\n",
        "sns.FacetGrid(train7.toPandas(), hue=\"TARGET\", size=6) \\\n",
        "   .map(sns.kdeplot, \"n0\") \\\n",
        "   .add_legend()\n",
        "plt.title('Unhappy customers have a lot of features that are zero');"
      ],
      "execution_count": null,
      "outputs": [
        {
          "output_type": "display_data",
          "data": {
            "image/png": "[encoded data removed]",
            "text/plain": [
              "<Figure size 487.925x432 with 1 Axes>"
            ]
          },
          "metadata": {
            "tags": []
          }
        }
      ]
    },
    {
      "cell_type": "markdown",
      "metadata": {
        "id": "nw6I98CwKHxu"
      },
      "source": [
        "# Select the most important features\r\n",
        "* `X` (uppercase): It's a matrix with the predict variables;\r\n",
        "* `y` (lowercase): It's a vector (only one column) is the target variable.\r\n",
        "\r\n",
        "[Cell with X and y](https://colab.research.google.com/drive/1ABlNPBBcTvwzBBvq1Zscx6dXuJpUriRF#scrollTo=qxmIK9RiHONf&line=2&uniqifier=1)"
      ]
    },
    {
      "cell_type": "code",
      "metadata": {
        "id": "aPzfet-uJk3a"
      },
      "source": [
        "from pyspark.ml.feature import VectorAssembler, StandardScaler, Binarizer, ChiSqSelector"
      ],
      "execution_count": 12,
      "outputs": []
    },
    {
      "cell_type": "code",
      "metadata": {
        "id": "-PT1dGy4np8d"
      },
      "source": [
        "# Get column names removing non-necessary exploratory columns in train7\r\n",
        "train_cols = train7.drop('ID','TARGET','n0','var38mc','logvar38','log_saldo_var30').columns"
      ],
      "execution_count": 13,
      "outputs": []
    },
    {
      "cell_type": "markdown",
      "metadata": {
        "id": "yXtr8ajtoGDA"
      },
      "source": [
        "## First select features based on chi2 and f_classif"
      ]
    },
    {
      "cell_type": "markdown",
      "metadata": {
        "id": "RFie0iFLQgdA"
      },
      "source": [
        "### Feature Vectorization X\n",
        "[How to Standardize or Normalize Data with PySpark | Work with Continuous Features | PySpark Tutorial](https://www.youtube.com/watch?v=ucOin2KFt9E)"
      ]
    },
    {
      "cell_type": "code",
      "metadata": {
        "id": "Frni0XKQJlRk"
      },
      "source": [
        "# Define assembler object\r\n",
        "vector_assembler = VectorAssembler(inputCols=train_cols, outputCol='vec_features') "
      ],
      "execution_count": 14,
      "outputs": []
    },
    {
      "cell_type": "code",
      "metadata": {
        "id": "h0bYASe_JmAs"
      },
      "source": [
        "# Apply vectorization in train7 dataset (without ID column)\r\n",
        "temp_train = vector_assembler.transform(train7)"
      ],
      "execution_count": 15,
      "outputs": []
    },
    {
      "cell_type": "code",
      "metadata": {
        "id": "hE3xI8fTJakp"
      },
      "source": [
        "temp_train.select('vec_features','TARGET').show(3, truncate=False)"
      ],
      "execution_count": null,
      "outputs": []
    },
    {
      "cell_type": "markdown",
      "metadata": {
        "id": "MPaO_acSgzCk"
      },
      "source": [
        "### Scale X"
      ]
    },
    {
      "cell_type": "code",
      "metadata": {
        "id": "TB5_dPAnJm0d"
      },
      "source": [
        "standard_scaler = StandardScaler(inputCol='vec_features',outputCol='scaled_features')"
      ],
      "execution_count": 17,
      "outputs": []
    },
    {
      "cell_type": "code",
      "metadata": {
        "id": "h2-2s4N7hF64"
      },
      "source": [
        "train_scaled = standard_scaler.fit(temp_train).transform(temp_train)"
      ],
      "execution_count": 18,
      "outputs": []
    },
    {
      "cell_type": "code",
      "metadata": {
        "id": "FhxTUSlxhGVz"
      },
      "source": [
        "train_scaled.select('scaled_features','vec_features','TARGET').show(3, truncate=False)"
      ],
      "execution_count": null,
      "outputs": []
    },
    {
      "cell_type": "markdown",
      "metadata": {
        "id": "R7V0hHfhjxgl"
      },
      "source": [
        "### Binarize X"
      ]
    },
    {
      "cell_type": "code",
      "metadata": {
        "id": "ApPQK2quhGca"
      },
      "source": [
        "binarizer = Binarizer(threshold=0.5, inputCol='scaled_features',outputCol='bin_feature')"
      ],
      "execution_count": 71,
      "outputs": []
    },
    {
      "cell_type": "code",
      "metadata": {
        "id": "AvXQjWwWmz56"
      },
      "source": [
        "train_bin = binarizer.transform(train_scaled)"
      ],
      "execution_count": 73,
      "outputs": []
    },
    {
      "cell_type": "code",
      "metadata": {
        "id": "6UR4nDAJm0Ux"
      },
      "source": [
        "train_bin.show(3, truncate=False)"
      ],
      "execution_count": null,
      "outputs": []
    },
    {
      "cell_type": "markdown",
      "metadata": {
        "id": "Kf-mdiHPts0c"
      },
      "source": [
        "### ChiSqSelector\n",
        "[pyspark.ml.feature.ChiSqSelector](https://spark.apache.org/docs/latest/api/python/pyspark.ml.html#pyspark.ml.feature.ChiSqSelector)"
      ]
    },
    {
      "cell_type": "code",
      "metadata": {
        "colab": {
          "base_uri": "https://localhost:8080/"
        },
        "id": "HcKypRvQG-ku",
        "outputId": "283d74e9-b58d-4e93-ad6e-a6b15098ed76"
      },
      "source": [
        "selector = ChiSqSelector(featuresCol='bin_feature',\n",
        "                         outputCol='selected_features',\n",
        "                         labelCol='TARGET',\n",
        "                         selectorType='percentile',\n",
        "                         percentile=0.03)\n",
        "\n",
        "result = selector.fit(train_bin).transform(train_bin)\n",
        "\n",
        "print(\"ChiSqSelector output with %.2f of percentile features selected\" % selector.getPercentile())\n",
        "result.select('selected_features').show(3, truncate=False)"
      ],
      "execution_count": 91,
      "outputs": [
        {
          "output_type": "stream",
          "text": [
            "ChiSqSelector output with 0.03 of percentile features selected\n",
            "+---------------------------------------------------+\n",
            "|selected_features                                  |\n",
            "+---------------------------------------------------+\n",
            "|(11,[3,4,10],[1.0,1.0,1.0])                        |\n",
            "|(11,[0,1,5,6,7,8,10],[1.0,1.0,1.0,1.0,1.0,1.0,1.0])|\n",
            "|(11,[0,1,10],[1.0,1.0,1.0])                        |\n",
            "+---------------------------------------------------+\n",
            "only showing top 3 rows\n",
            "\n"
          ],
          "name": "stdout"
        }
      ]
    },
    {
      "cell_type": "code",
      "metadata": {
        "id": "Nz7r3H9JOJTl"
      },
      "source": [
        "chi2_model = selector.fit(train_bin)\n",
        "\n",
        "# 'selectedFeatures' returns 'Array[Int]' with indexes, not values\n",
        "# https://stackoverflow.com/questions/39606505/chisqselector-real-features-spark\n",
        "important_features = chi2_model.selectedFeatures\n",
        "\n",
        "[train7.columns[i] for i in important_features]"
      ],
      "execution_count": null,
      "outputs": []
    },
    {
      "cell_type": "code",
      "metadata": {
        "id": "LejcLUt3nPey"
      },
      "source": [
        "# ['ind_var2',\n",
        "#  'ind_var5_0',\n",
        "#  'ind_var6',\n",
        "#  'ind_var8',\n",
        "#  'ind_var12_0',\n",
        "#  'ind_var12',\n",
        "#  'ind_var13_0',\n",
        "#  'ind_var13_corto_0',\n",
        "#  'ind_var13_medio',\n",
        "#  'ind_var24_0',\n",
        "#  'ind_var30_0']"
      ],
      "execution_count": 88,
      "outputs": []
    },
    {
      "cell_type": "code",
      "metadata": {
        "id": "TD-ytlrrn8Ck"
      },
      "source": [
        "# Chi2 selected 12 features \n",
        "#   ['var15', 'ind_var5', 'ind_var8_0', 'ind_var30', 'num_var5', 'num_var8_0', 'num_var30_0', 'num_var30', 'num_var42', 'saldo_var30', 'var36', 'num_meses_var5_ult3'].\n",
        "# F_classif selected 12 features \n",
        "#   ['var15', 'ind_var5', 'ind_var8_0', 'ind_var30', 'num_var4', 'num_var5', 'num_var30', 'num_var35', 'num_var42', 'var36', 'num_meses_var5_ult3', 'n0'].\n",
        "# Chi2 & F_classif selected 9 features\n",
        "#   ['var15', 'ind_var5', 'ind_var8_0', 'ind_var30', 'num_var5', 'num_var30', 'num_var42', 'var36', 'num_meses_var5_ult3']"
      ],
      "execution_count": null,
      "outputs": []
    },
    {
      "cell_type": "markdown",
      "metadata": {
        "id": "8eXdBMyBLgKq"
      },
      "source": [
        "# Save Modified train dataset"
      ]
    },
    {
      "cell_type": "code",
      "metadata": {
        "id": "HLeI2-5JLA3Z"
      },
      "source": [
        "# Save dataset 1\n",
        "train.write.save('/content/drive/My Drive/Colab Notebooks/08-apache-spark/projects/data/train_output.parquet')"
      ],
      "execution_count": null,
      "outputs": []
    },
    {
      "cell_type": "code",
      "metadata": {
        "id": "iEIRp3Hy-KA2"
      },
      "source": [
        "# Save dataset 2\r\n",
        "train2.write.save('/content/drive/My Drive/Colab Notebooks/08-apache-spark/projects/data/train2_output.parquet')"
      ],
      "execution_count": null,
      "outputs": []
    },
    {
      "cell_type": "code",
      "metadata": {
        "id": "sAuSkkZV-KLM"
      },
      "source": [
        "# Save dataset 3\r\n",
        "train3.write.save('/content/drive/My Drive/Colab Notebooks/08-apache-spark/projects/data/train3_output.parquet')"
      ],
      "execution_count": null,
      "outputs": []
    },
    {
      "cell_type": "code",
      "metadata": {
        "id": "n-nWxGXUGaHn"
      },
      "source": [
        "# Save dataset 4\r\n",
        "train4.write.save('/content/drive/My Drive/Colab Notebooks/08-apache-spark/projects/data/train4_output.parquet')"
      ],
      "execution_count": null,
      "outputs": []
    },
    {
      "cell_type": "code",
      "metadata": {
        "id": "f94iBa0jGacd"
      },
      "source": [
        "# Save dataset 5\r\n",
        "train5.write.save('/content/drive/My Drive/Colab Notebooks/08-apache-spark/projects/data/train5_output.parquet')"
      ],
      "execution_count": null,
      "outputs": []
    },
    {
      "cell_type": "code",
      "metadata": {
        "id": "4DvYYwK0Gaug"
      },
      "source": [
        "# Save dataset 6\r\n",
        "train6.write.save('/content/drive/My Drive/Colab Notebooks/08-apache-spark/projects/data/train6_output.parquet')"
      ],
      "execution_count": null,
      "outputs": []
    },
    {
      "cell_type": "code",
      "metadata": {
        "id": "65s4_e3hGa8O"
      },
      "source": [
        "# Save dataset 7\r\n",
        "train7.write.save('/content/drive/My Drive/Colab Notebooks/08-apache-spark/projects/data/train7_output.parquet')"
      ],
      "execution_count": null,
      "outputs": []
    },
    {
      "cell_type": "code",
      "metadata": {
        "id": "7rbou6xZl8aF"
      },
      "source": [
        "# Save X with ID column\r\n",
        "X.write.save('/content/drive/My Drive/Colab Notebooks/08-apache-spark/projects/data/X_output.parquet')"
      ],
      "execution_count": null,
      "outputs": []
    },
    {
      "cell_type": "code",
      "metadata": {
        "id": "lxePF6ibmAlV"
      },
      "source": [
        "# Save y\r\n",
        "y.write.save('/content/drive/My Drive/Colab Notebooks/08-apache-spark/projects/data/y_output.parquet')"
      ],
      "execution_count": null,
      "outputs": []
    },
    {
      "cell_type": "code",
      "metadata": {
        "id": "-utvj0tBvmTR"
      },
      "source": [
        "result.write.save('/content/drive/My Drive/Colab Notebooks/08-apache-spark/projects/data/result.parquet')"
      ],
      "execution_count": null,
      "outputs": []
    },
    {
      "cell_type": "markdown",
      "metadata": {
        "id": "P3I8l5LjNLzR"
      },
      "source": [
        "# Load saved parquet files"
      ]
    },
    {
      "cell_type": "code",
      "metadata": {
        "id": "2TdHGiZxlF1D"
      },
      "source": [
        "train = spark.read.parquet('/content/drive/MyDrive/Colab Notebooks/08-apache-spark/projects/data/train_output.parquet')\r\n",
        "train.cache()"
      ],
      "execution_count": null,
      "outputs": []
    },
    {
      "cell_type": "code",
      "metadata": {
        "id": "1fdlxiDWSu_E"
      },
      "source": [
        "train2 = spark.read.parquet('/content/drive/MyDrive/Colab Notebooks/08-apache-spark/projects/data/train2_output.parquet')\n",
        "train2.cache()"
      ],
      "execution_count": null,
      "outputs": []
    },
    {
      "cell_type": "code",
      "metadata": {
        "id": "-Yj6yUcpefHV",
        "colab": {
          "base_uri": "https://localhost:8080/"
        },
        "outputId": "fe0df7bc-86ca-4877-9fed-ce382e07c8e4"
      },
      "source": [
        "train7 = spark.read.parquet('/content/drive/MyDrive/Colab Notebooks/08-apache-spark/projects/data/train7_output.parquet')\n",
        "train7.cache()"
      ],
      "execution_count": 11,
      "outputs": [
        {
          "output_type": "execute_result",
          "data": {
            "text/plain": [
              "DataFrame[ID: int, var3: int, var15: int, imp_ent_var16_ult1: double, imp_op_var39_comer_ult1: double, imp_op_var39_comer_ult3: double, imp_op_var40_comer_ult1: double, imp_op_var40_comer_ult3: double, imp_op_var40_efect_ult1: double, imp_op_var40_efect_ult3: double, imp_op_var40_ult1: double, imp_op_var41_comer_ult1: double, imp_op_var41_comer_ult3: double, imp_op_var41_efect_ult1: double, imp_op_var41_efect_ult3: double, imp_op_var41_ult1: double, imp_op_var39_efect_ult1: double, imp_op_var39_efect_ult3: double, imp_op_var39_ult1: double, imp_sal_var16_ult1: double, ind_var1_0: int, ind_var1: int, ind_var2_0: int, ind_var2: int, ind_var5_0: int, ind_var5: int, ind_var6_0: int, ind_var6: int, ind_var8_0: int, ind_var8: int, ind_var12_0: int, ind_var12: int, ind_var13_0: int, ind_var13_corto_0: int, ind_var13_corto: int, ind_var13_largo_0: int, ind_var13_largo: int, ind_var13_medio_0: int, ind_var13_medio: int, ind_var13: int, ind_var14_0: int, ind_var14: int, ind_var17_0: int, ind_var17: int, ind_var18_0: int, ind_var18: int, ind_var19: int, ind_var20_0: int, ind_var20: int, ind_var24_0: int, ind_var24: int, ind_var25_cte: int, ind_var26_0: int, ind_var26_cte: int, ind_var26: int, ind_var25_0: int, ind_var25: int, ind_var27_0: int, ind_var28_0: int, ind_var28: int, ind_var27: int, ind_var29_0: int, ind_var29: int, ind_var30_0: int, ind_var30: int, ind_var31_0: int, ind_var31: int, ind_var32_cte: int, ind_var32_0: int, ind_var32: int, ind_var33_0: int, ind_var33: int, ind_var34_0: int, ind_var34: int, ind_var37_cte: int, ind_var37_0: int, ind_var37: int, ind_var39_0: int, ind_var40_0: int, ind_var40: int, ind_var41_0: int, ind_var41: int, ind_var39: int, ind_var44_0: int, ind_var44: int, ind_var46_0: int, ind_var46: int, num_var1_0: int, num_var1: int, num_var4: int, num_var5_0: int, num_var5: int, num_var6_0: int, num_var6: int, num_var8_0: int, num_var8: int, num_var12_0: int, num_var12: int, num_var13_0: int, num_var13_corto_0: int, num_var13_corto: int, num_var13_largo_0: int, num_var13_largo: int, num_var13_medio_0: int, num_var13_medio: int, num_var13: int, num_var14_0: int, num_var14: int, num_var17_0: int, num_var17: int, num_var18_0: int, num_var18: int, num_var20_0: int, num_var20: int, num_var24_0: int, num_var24: int, num_var26_0: int, num_var26: int, num_var25_0: int, num_var25: int, num_op_var40_hace2: int, num_op_var40_hace3: int, num_op_var40_ult1: int, num_op_var40_ult3: int, num_op_var41_hace2: int, num_op_var41_hace3: int, num_op_var41_ult1: int, num_op_var41_ult3: int, num_op_var39_hace2: int, num_op_var39_hace3: int, num_op_var39_ult1: int, num_op_var39_ult3: int, num_var27_0: int, num_var28_0: int, num_var28: int, num_var27: int, num_var29_0: int, num_var29: int, num_var30_0: int, num_var30: int, num_var31_0: int, num_var31: int, num_var32_0: int, num_var32: int, num_var33_0: int, num_var33: int, num_var34_0: int, num_var34: int, num_var35: int, num_var37_med_ult2: int, num_var37_0: int, num_var37: int, num_var39_0: int, num_var40_0: int, num_var40: int, num_var41_0: int, num_var41: int, num_var39: int, num_var42_0: int, num_var42: int, num_var44_0: int, num_var44: int, num_var46_0: int, num_var46: int, saldo_var1: double, saldo_var5: double, saldo_var6: double, saldo_var8: double, saldo_var12: double, saldo_var13_corto: double, saldo_var13_largo: double, saldo_var13_medio: int, saldo_var13: double, saldo_var14: double, saldo_var17: double, saldo_var18: int, saldo_var20: double, saldo_var24: double, saldo_var26: double, saldo_var25: double, saldo_var28: int, saldo_var27: int, saldo_var29: double, saldo_var30: double, saldo_var31: double, saldo_var32: double, saldo_var33: double, saldo_var34: int, saldo_var37: double, saldo_var40: double, saldo_var41: int, saldo_var42: double, saldo_var44: double, saldo_var46: int, var36: int, delta_imp_amort_var18_1y3: bigint, delta_imp_amort_var34_1y3: bigint, delta_imp_aport_var13_1y3: double, delta_imp_aport_var17_1y3: double, delta_imp_aport_var33_1y3: double, delta_imp_compra_var44_1y3: double, delta_imp_reemb_var13_1y3: bigint, delta_imp_reemb_var17_1y3: bigint, delta_imp_reemb_var33_1y3: bigint, delta_imp_trasp_var17_in_1y3: bigint, delta_imp_trasp_var17_out_1y3: bigint, delta_imp_trasp_var33_in_1y3: bigint, delta_imp_trasp_var33_out_1y3: bigint, delta_imp_venta_var44_1y3: double, delta_num_aport_var13_1y3: double, delta_num_aport_var17_1y3: double, delta_num_aport_var33_1y3: double, delta_num_compra_var44_1y3: double, delta_num_reemb_var13_1y3: bigint, delta_num_reemb_var17_1y3: bigint, delta_num_reemb_var33_1y3: bigint, delta_num_trasp_var17_in_1y3: bigint, delta_num_trasp_var17_out_1y3: bigint, delta_num_trasp_var33_in_1y3: bigint, delta_num_trasp_var33_out_1y3: bigint, delta_num_venta_var44_1y3: double, imp_amort_var18_hace3: int, imp_amort_var18_ult1: double, imp_amort_var34_hace3: int, imp_amort_var34_ult1: double, imp_aport_var13_hace3: double, imp_aport_var13_ult1: double, imp_aport_var17_hace3: double, imp_aport_var17_ult1: double, imp_aport_var33_hace3: int, imp_aport_var33_ult1: int, imp_var7_emit_ult1: double, imp_var7_recib_ult1: double, imp_compra_var44_hace3: double, imp_compra_var44_ult1: double, imp_reemb_var13_hace3: int, imp_reemb_var13_ult1: double, imp_reemb_var17_hace3: double, imp_reemb_var17_ult1: double, imp_reemb_var33_hace3: int, imp_reemb_var33_ult1: int, imp_var43_emit_ult1: double, imp_trans_var37_ult1: double, imp_trasp_var17_in_hace3: double, imp_trasp_var17_in_ult1: double, imp_trasp_var17_out_hace3: int, imp_trasp_var17_out_ult1: double, imp_trasp_var33_in_hace3: double, imp_trasp_var33_in_ult1: double, imp_trasp_var33_out_hace3: int, imp_trasp_var33_out_ult1: int, imp_venta_var44_hace3: double, imp_venta_var44_ult1: double, ind_var7_emit_ult1: int, ind_var7_recib_ult1: int, ind_var10_ult1: int, ind_var10cte_ult1: int, ind_var9_cte_ult1: int, ind_var9_ult1: int, ind_var43_emit_ult1: int, ind_var43_recib_ult1: int, var21: int, num_var2_0_ult1: int, num_var2_ult1: int, num_aport_var13_hace3: int, num_aport_var13_ult1: int, num_aport_var17_hace3: int, num_aport_var17_ult1: int, num_aport_var33_hace3: int, num_aport_var33_ult1: int, num_var7_emit_ult1: int, num_var7_recib_ult1: int, num_compra_var44_hace3: int, num_compra_var44_ult1: int, num_ent_var16_ult1: int, num_var22_hace2: int, num_var22_hace3: int, num_var22_ult1: int, num_var22_ult3: int, num_med_var22_ult3: int, num_med_var45_ult3: int, num_meses_var5_ult3: int, num_meses_var8_ult3: int, num_meses_var12_ult3: int, num_meses_var13_corto_ult3: int, num_meses_var13_largo_ult3: int, num_meses_var13_medio_ult3: int, num_meses_var17_ult3: int, num_meses_var29_ult3: int, num_meses_var33_ult3: int, num_meses_var39_vig_ult3: int, num_meses_var44_ult3: int, num_op_var39_comer_ult1: int, num_op_var39_comer_ult3: int, num_op_var40_comer_ult1: int, num_op_var40_comer_ult3: int, num_op_var40_efect_ult1: int, num_op_var40_efect_ult3: int, num_op_var41_comer_ult1: int, num_op_var41_comer_ult3: int, num_op_var41_efect_ult1: int, num_op_var41_efect_ult3: int, num_op_var39_efect_ult1: int, num_op_var39_efect_ult3: int, num_reemb_var13_hace3: int, num_reemb_var13_ult1: int, num_reemb_var17_hace3: int, num_reemb_var17_ult1: int, num_reemb_var33_hace3: int, num_reemb_var33_ult1: int, num_sal_var16_ult1: int, num_var43_emit_ult1: int, num_var43_recib_ult1: int, num_trasp_var11_ult1: int, num_trasp_var17_in_hace3: int, num_trasp_var17_in_ult1: int, num_trasp_var17_out_hace3: int, num_trasp_var17_out_ult1: int, num_trasp_var33_in_hace3: int, num_trasp_var33_in_ult1: int, num_trasp_var33_out_hace3: int, num_trasp_var33_out_ult1: int, num_venta_var44_hace3: int, num_venta_var44_ult1: int, num_var45_hace2: int, num_var45_hace3: int, num_var45_ult1: int, num_var45_ult3: int, saldo_var2_ult1: int, saldo_medio_var5_hace2: double, saldo_medio_var5_hace3: double, saldo_medio_var5_ult1: double, saldo_medio_var5_ult3: double, saldo_medio_var8_hace2: double, saldo_medio_var8_hace3: double, saldo_medio_var8_ult1: double, saldo_medio_var8_ult3: double, saldo_medio_var12_hace2: double, saldo_medio_var12_hace3: double, saldo_medio_var12_ult1: double, saldo_medio_var12_ult3: double, saldo_medio_var13_corto_hace2: double, saldo_medio_var13_corto_hace3: double, saldo_medio_var13_corto_ult1: double, saldo_medio_var13_corto_ult3: double, saldo_medio_var13_largo_hace2: double, saldo_medio_var13_largo_hace3: double, saldo_medio_var13_largo_ult1: double, saldo_medio_var13_largo_ult3: double, saldo_medio_var13_medio_hace2: double, saldo_medio_var13_medio_hace3: int, saldo_medio_var13_medio_ult1: int, saldo_medio_var13_medio_ult3: double, saldo_medio_var17_hace2: double, saldo_medio_var17_hace3: double, saldo_medio_var17_ult1: double, saldo_medio_var17_ult3: double, saldo_medio_var29_hace2: double, saldo_medio_var29_hace3: double, saldo_medio_var29_ult1: double, saldo_medio_var29_ult3: double, saldo_medio_var33_hace2: double, saldo_medio_var33_hace3: double, saldo_medio_var33_ult1: double, saldo_medio_var33_ult3: double, saldo_medio_var44_hace2: double, saldo_medio_var44_hace3: double, saldo_medio_var44_ult1: double, saldo_medio_var44_ult3: double, var38: double, TARGET: int, n0: int, var38mc: boolean, logvar38: double, log_saldo_var30: double]"
            ]
          },
          "metadata": {
            "tags": []
          },
          "execution_count": 11
        }
      ]
    },
    {
      "cell_type": "code",
      "metadata": {
        "id": "wcHrQHjWkZpr"
      },
      "source": [
        "# X WITH ID variable\r\n",
        "X = spark.read.parquet('/content/drive/My Drive/Colab Notebooks/08-apache-spark/projects/data/X_output.parquet')\r\n",
        "X.cache()"
      ],
      "execution_count": null,
      "outputs": []
    },
    {
      "cell_type": "code",
      "metadata": {
        "id": "A-sTbHG7Jwmj"
      },
      "source": [
        "# X WITHOUT ID variable\n",
        "X = spark.read.parquet('/content/drive/MyDrive/Colab Notebooks/08-apache-spark/projects/data/X_without_ID_column_output.parquet')\n",
        "X.cache()"
      ],
      "execution_count": null,
      "outputs": []
    },
    {
      "cell_type": "code",
      "metadata": {
        "id": "VQhlMVBDkZ4j"
      },
      "source": [
        "y = spark.read.parquet('/content/drive/My Drive/Colab Notebooks/08-apache-spark/projects/data/y_output.parquet')\r\n",
        "y.cache()"
      ],
      "execution_count": null,
      "outputs": []
    },
    {
      "cell_type": "code",
      "metadata": {
        "colab": {
          "base_uri": "https://localhost:8080/"
        },
        "id": "1Jc6JzZ-eLNr",
        "outputId": "d260de76-86fb-4549-b918-d8be704a7196"
      },
      "source": [
        "result = spark.read.parquet('/content/drive/My Drive/Colab Notebooks/08-apache-spark/projects/data/result.parquet')\n",
        "result.cache()"
      ],
      "execution_count": null,
      "outputs": [
        {
          "output_type": "execute_result",
          "data": {
            "text/plain": [
              "DataFrame[ID: int, var3: int, var15: int, imp_ent_var16_ult1: double, imp_op_var39_comer_ult1: double, imp_op_var39_comer_ult3: double, imp_op_var40_comer_ult1: double, imp_op_var40_comer_ult3: double, imp_op_var40_efect_ult1: double, imp_op_var40_efect_ult3: double, imp_op_var40_ult1: double, imp_op_var41_comer_ult1: double, imp_op_var41_comer_ult3: double, imp_op_var41_efect_ult1: double, imp_op_var41_efect_ult3: double, imp_op_var41_ult1: double, imp_op_var39_efect_ult1: double, imp_op_var39_efect_ult3: double, imp_op_var39_ult1: double, imp_sal_var16_ult1: double, ind_var1_0: int, ind_var1: int, ind_var2_0: int, ind_var2: int, ind_var5_0: int, ind_var5: int, ind_var6_0: int, ind_var6: int, ind_var8_0: int, ind_var8: int, ind_var12_0: int, ind_var12: int, ind_var13_0: int, ind_var13_corto_0: int, ind_var13_corto: int, ind_var13_largo_0: int, ind_var13_largo: int, ind_var13_medio_0: int, ind_var13_medio: int, ind_var13: int, ind_var14_0: int, ind_var14: int, ind_var17_0: int, ind_var17: int, ind_var18_0: int, ind_var18: int, ind_var19: int, ind_var20_0: int, ind_var20: int, ind_var24_0: int, ind_var24: int, ind_var25_cte: int, ind_var26_0: int, ind_var26_cte: int, ind_var26: int, ind_var25_0: int, ind_var25: int, ind_var27_0: int, ind_var28_0: int, ind_var28: int, ind_var27: int, ind_var29_0: int, ind_var29: int, ind_var30_0: int, ind_var30: int, ind_var31_0: int, ind_var31: int, ind_var32_cte: int, ind_var32_0: int, ind_var32: int, ind_var33_0: int, ind_var33: int, ind_var34_0: int, ind_var34: int, ind_var37_cte: int, ind_var37_0: int, ind_var37: int, ind_var39_0: int, ind_var40_0: int, ind_var40: int, ind_var41_0: int, ind_var41: int, ind_var39: int, ind_var44_0: int, ind_var44: int, ind_var46_0: int, ind_var46: int, num_var1_0: int, num_var1: int, num_var4: int, num_var5_0: int, num_var5: int, num_var6_0: int, num_var6: int, num_var8_0: int, num_var8: int, num_var12_0: int, num_var12: int, num_var13_0: int, num_var13_corto_0: int, num_var13_corto: int, num_var13_largo_0: int, num_var13_largo: int, num_var13_medio_0: int, num_var13_medio: int, num_var13: int, num_var14_0: int, num_var14: int, num_var17_0: int, num_var17: int, num_var18_0: int, num_var18: int, num_var20_0: int, num_var20: int, num_var24_0: int, num_var24: int, num_var26_0: int, num_var26: int, num_var25_0: int, num_var25: int, num_op_var40_hace2: int, num_op_var40_hace3: int, num_op_var40_ult1: int, num_op_var40_ult3: int, num_op_var41_hace2: int, num_op_var41_hace3: int, num_op_var41_ult1: int, num_op_var41_ult3: int, num_op_var39_hace2: int, num_op_var39_hace3: int, num_op_var39_ult1: int, num_op_var39_ult3: int, num_var27_0: int, num_var28_0: int, num_var28: int, num_var27: int, num_var29_0: int, num_var29: int, num_var30_0: int, num_var30: int, num_var31_0: int, num_var31: int, num_var32_0: int, num_var32: int, num_var33_0: int, num_var33: int, num_var34_0: int, num_var34: int, num_var35: int, num_var37_med_ult2: int, num_var37_0: int, num_var37: int, num_var39_0: int, num_var40_0: int, num_var40: int, num_var41_0: int, num_var41: int, num_var39: int, num_var42_0: int, num_var42: int, num_var44_0: int, num_var44: int, num_var46_0: int, num_var46: int, saldo_var1: double, saldo_var5: double, saldo_var6: double, saldo_var8: double, saldo_var12: double, saldo_var13_corto: double, saldo_var13_largo: double, saldo_var13_medio: int, saldo_var13: double, saldo_var14: double, saldo_var17: double, saldo_var18: int, saldo_var20: double, saldo_var24: double, saldo_var26: double, saldo_var25: double, saldo_var28: int, saldo_var27: int, saldo_var29: double, saldo_var30: double, saldo_var31: double, saldo_var32: double, saldo_var33: double, saldo_var34: int, saldo_var37: double, saldo_var40: double, saldo_var41: int, saldo_var42: double, saldo_var44: double, saldo_var46: int, var36: int, delta_imp_amort_var18_1y3: bigint, delta_imp_amort_var34_1y3: bigint, delta_imp_aport_var13_1y3: double, delta_imp_aport_var17_1y3: double, delta_imp_aport_var33_1y3: double, delta_imp_compra_var44_1y3: double, delta_imp_reemb_var13_1y3: bigint, delta_imp_reemb_var17_1y3: bigint, delta_imp_reemb_var33_1y3: bigint, delta_imp_trasp_var17_in_1y3: bigint, delta_imp_trasp_var17_out_1y3: bigint, delta_imp_trasp_var33_in_1y3: bigint, delta_imp_trasp_var33_out_1y3: bigint, delta_imp_venta_var44_1y3: double, delta_num_aport_var13_1y3: double, delta_num_aport_var17_1y3: double, delta_num_aport_var33_1y3: double, delta_num_compra_var44_1y3: double, delta_num_reemb_var13_1y3: bigint, delta_num_reemb_var17_1y3: bigint, delta_num_reemb_var33_1y3: bigint, delta_num_trasp_var17_in_1y3: bigint, delta_num_trasp_var17_out_1y3: bigint, delta_num_trasp_var33_in_1y3: bigint, delta_num_trasp_var33_out_1y3: bigint, delta_num_venta_var44_1y3: double, imp_amort_var18_hace3: int, imp_amort_var18_ult1: double, imp_amort_var34_hace3: int, imp_amort_var34_ult1: double, imp_aport_var13_hace3: double, imp_aport_var13_ult1: double, imp_aport_var17_hace3: double, imp_aport_var17_ult1: double, imp_aport_var33_hace3: int, imp_aport_var33_ult1: int, imp_var7_emit_ult1: double, imp_var7_recib_ult1: double, imp_compra_var44_hace3: double, imp_compra_var44_ult1: double, imp_reemb_var13_hace3: int, imp_reemb_var13_ult1: double, imp_reemb_var17_hace3: double, imp_reemb_var17_ult1: double, imp_reemb_var33_hace3: int, imp_reemb_var33_ult1: int, imp_var43_emit_ult1: double, imp_trans_var37_ult1: double, imp_trasp_var17_in_hace3: double, imp_trasp_var17_in_ult1: double, imp_trasp_var17_out_hace3: int, imp_trasp_var17_out_ult1: double, imp_trasp_var33_in_hace3: double, imp_trasp_var33_in_ult1: double, imp_trasp_var33_out_hace3: int, imp_trasp_var33_out_ult1: int, imp_venta_var44_hace3: double, imp_venta_var44_ult1: double, ind_var7_emit_ult1: int, ind_var7_recib_ult1: int, ind_var10_ult1: int, ind_var10cte_ult1: int, ind_var9_cte_ult1: int, ind_var9_ult1: int, ind_var43_emit_ult1: int, ind_var43_recib_ult1: int, var21: int, num_var2_0_ult1: int, num_var2_ult1: int, num_aport_var13_hace3: int, num_aport_var13_ult1: int, num_aport_var17_hace3: int, num_aport_var17_ult1: int, num_aport_var33_hace3: int, num_aport_var33_ult1: int, num_var7_emit_ult1: int, num_var7_recib_ult1: int, num_compra_var44_hace3: int, num_compra_var44_ult1: int, num_ent_var16_ult1: int, num_var22_hace2: int, num_var22_hace3: int, num_var22_ult1: int, num_var22_ult3: int, num_med_var22_ult3: int, num_med_var45_ult3: int, num_meses_var5_ult3: int, num_meses_var8_ult3: int, num_meses_var12_ult3: int, num_meses_var13_corto_ult3: int, num_meses_var13_largo_ult3: int, num_meses_var13_medio_ult3: int, num_meses_var17_ult3: int, num_meses_var29_ult3: int, num_meses_var33_ult3: int, num_meses_var39_vig_ult3: int, num_meses_var44_ult3: int, num_op_var39_comer_ult1: int, num_op_var39_comer_ult3: int, num_op_var40_comer_ult1: int, num_op_var40_comer_ult3: int, num_op_var40_efect_ult1: int, num_op_var40_efect_ult3: int, num_op_var41_comer_ult1: int, num_op_var41_comer_ult3: int, num_op_var41_efect_ult1: int, num_op_var41_efect_ult3: int, num_op_var39_efect_ult1: int, num_op_var39_efect_ult3: int, num_reemb_var13_hace3: int, num_reemb_var13_ult1: int, num_reemb_var17_hace3: int, num_reemb_var17_ult1: int, num_reemb_var33_hace3: int, num_reemb_var33_ult1: int, num_sal_var16_ult1: int, num_var43_emit_ult1: int, num_var43_recib_ult1: int, num_trasp_var11_ult1: int, num_trasp_var17_in_hace3: int, num_trasp_var17_in_ult1: int, num_trasp_var17_out_hace3: int, num_trasp_var17_out_ult1: int, num_trasp_var33_in_hace3: int, num_trasp_var33_in_ult1: int, num_trasp_var33_out_hace3: int, num_trasp_var33_out_ult1: int, num_venta_var44_hace3: int, num_venta_var44_ult1: int, num_var45_hace2: int, num_var45_hace3: int, num_var45_ult1: int, num_var45_ult3: int, saldo_var2_ult1: int, saldo_medio_var5_hace2: double, saldo_medio_var5_hace3: double, saldo_medio_var5_ult1: double, saldo_medio_var5_ult3: double, saldo_medio_var8_hace2: double, saldo_medio_var8_hace3: double, saldo_medio_var8_ult1: double, saldo_medio_var8_ult3: double, saldo_medio_var12_hace2: double, saldo_medio_var12_hace3: double, saldo_medio_var12_ult1: double, saldo_medio_var12_ult3: double, saldo_medio_var13_corto_hace2: double, saldo_medio_var13_corto_hace3: double, saldo_medio_var13_corto_ult1: double, saldo_medio_var13_corto_ult3: double, saldo_medio_var13_largo_hace2: double, saldo_medio_var13_largo_hace3: double, saldo_medio_var13_largo_ult1: double, saldo_medio_var13_largo_ult3: double, saldo_medio_var13_medio_hace2: double, saldo_medio_var13_medio_hace3: int, saldo_medio_var13_medio_ult1: int, saldo_medio_var13_medio_ult3: double, saldo_medio_var17_hace2: double, saldo_medio_var17_hace3: double, saldo_medio_var17_ult1: double, saldo_medio_var17_ult3: double, saldo_medio_var29_hace2: double, saldo_medio_var29_hace3: double, saldo_medio_var29_ult1: double, saldo_medio_var29_ult3: double, saldo_medio_var33_hace2: double, saldo_medio_var33_hace3: double, saldo_medio_var33_ult1: double, saldo_medio_var33_ult3: double, saldo_medio_var44_hace2: double, saldo_medio_var44_hace3: double, saldo_medio_var44_ult1: double, saldo_medio_var44_ult3: double, var38: double, TARGET: int, n0: int, var38mc: boolean, logvar38: double, log_saldo_var30: double, vec_features: vector, scaled_features: vector, bin_feature: vector, selected_features: vector]"
            ]
          },
          "metadata": {
            "tags": []
          },
          "execution_count": 11
        }
      ]
    }
  ]
}